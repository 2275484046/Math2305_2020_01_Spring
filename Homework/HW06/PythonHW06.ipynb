{
 "cells": [
  {
   "cell_type": "markdown",
   "metadata": {},
   "source": [
    "# Python HW06"
   ]
  },
  {
   "cell_type": "markdown",
   "metadata": {},
   "source": [
    "Members of the [Bay Area Bike Share](http://www.bayareabikeshare.com/) are able, for a very low cost, to ride bikes between stations all over the San Francisco Bay area.  The following file contains data collected from the program.\n",
    "- `trips_20150831.csv`: Data for all bike share trips on 08/31/2015\n",
    "\n",
    "Below is the function given in class to read a csv file and return its contents as a list of tuples. (Don't worry if you don't understand the particulars.  We'll be discussing everything you need to know about functions soon).  Make sure you run this cell"
   ]
  },
  {
   "cell_type": "code",
   "execution_count": 1,
   "metadata": {
    "collapsed": true
   },
   "outputs": [],
   "source": [
    "import csv\n",
    "\n",
    "def readCSV(file):\n",
    "    fh = open(file,'r')                                  # open file for reading\n",
    "    data = csv.reader(fh,delimiter=',',quotechar='\"')    # create a csv reader.  this is needed because some titles\n",
    "                                                         # contain commas\n",
    "\n",
    "    contents = []                                        # create an empty list in which to store the data \n",
    "    count = 0\n",
    "    for line in data:                                    # process each line of the file\n",
    "        count += 1\n",
    "        if(count==1):                                    # skip the first line which contains column headers\n",
    "            continue\n",
    "        lineData = tuple(line)                           # store the data as a tuple (for consistency with the previous example)\n",
    "        contents.append(lineData)                        # add the tuple of data to the topMovies list.\n",
    "\n",
    "    return contents\n"
   ]
  },
  {
   "cell_type": "markdown",
   "metadata": {},
   "source": [
    "Use the `readCSV` function to read the data from `trips_20150831.csv` into a list called `trips`. Then create a dictionary called `terminals` whose keys are the IDs of the terminals used on 08/31/2015 (found in the `Start Terminal` column) and whose values are the corresponing station names (found in the `Start Station` column). An outline of the code is given. Fill in the missing code (marked with ...) .  Only one line should be needed for the final ... ."
   ]
  },
  {
   "cell_type": "code",
   "execution_count": 2,
   "metadata": {},
   "outputs": [
    {
     "name": "stdout",
     "output_type": "stream",
     "text": [
      "{'10': 'San Jose City Hall',\n",
      " '11': 'MLK Library',\n",
      " '12': 'SJSU 4th at San Carlos',\n",
      " '16': 'SJSU - San Salvador at 9th',\n",
      " '2': 'San Jose Diridon Caltrain Station',\n",
      " '22': 'Redwood City Caltrain Station',\n",
      " '25': 'Stanford in Redwood City',\n",
      " '26': 'Redwood City Medical Center',\n",
      " '27': 'Mountain View City Hall',\n",
      " '28': 'Mountain View Caltrain Station',\n",
      " '29': 'San Antonio Caltrain Station',\n",
      " '30': 'Evelyn Park and Ride',\n",
      " '31': 'San Antonio Shopping Center',\n",
      " '32': 'Castro Street and El Camino Real',\n",
      " '33': 'Rengstorff Avenue / California Street',\n",
      " '34': 'Palo Alto Caltrain Station',\n",
      " '35': 'University and Emerson',\n",
      " '36': 'California Ave Caltrain Station',\n",
      " '37': 'Cowper at University',\n",
      " '38': 'Park at Olive',\n",
      " '39': 'Powell Street BART',\n",
      " '4': 'Santa Clara at Almaden',\n",
      " '41': 'Clay at Battery',\n",
      " '42': 'Davis at Jackson',\n",
      " '45': 'Commercial at Montgomery',\n",
      " '46': 'Washington at Kearny',\n",
      " '47': 'Post at Kearny',\n",
      " '48': 'Embarcadero at Vallejo',\n",
      " '49': 'Spear at Folsom',\n",
      " '5': 'Adobe on Almaden',\n",
      " '50': 'Harry Bridges Plaza (Ferry Building)',\n",
      " '51': 'Embarcadero at Folsom',\n",
      " '54': 'Embarcadero at Bryant',\n",
      " '55': 'Temporary Transbay Terminal (Howard at Beale)',\n",
      " '56': 'Beale at Market',\n",
      " '57': '5th at Howard',\n",
      " '58': 'San Francisco City Hall',\n",
      " '59': 'Golden Gate at Polk',\n",
      " '6': 'San Pedro Square',\n",
      " '60': 'Embarcadero at Sansome',\n",
      " '61': '2nd at Townsend',\n",
      " '62': '2nd at Folsom',\n",
      " '63': 'Howard at 2nd',\n",
      " '64': '2nd at South Park',\n",
      " '65': 'Townsend at 7th',\n",
      " '66': 'South Van Ness at Market',\n",
      " '67': 'Market at 10th',\n",
      " '68': 'Yerba Buena Center of the Arts (3rd @ Howard)',\n",
      " '69': 'San Francisco Caltrain 2 (330 Townsend)',\n",
      " '7': 'Paseo de San Antonio',\n",
      " '70': 'San Francisco Caltrain (Townsend at 4th)',\n",
      " '71': 'Powell at Post (Union Square)',\n",
      " '72': 'Civic Center BART (7th at Market)',\n",
      " '73': 'Grant Avenue at Columbus Avenue',\n",
      " '74': 'Steuart at Market',\n",
      " '75': 'Mechanics Plaza (Market at Battery)',\n",
      " '76': 'Market at 4th',\n",
      " '77': 'Market at Sansome',\n",
      " '8': 'San Salvador at 1st',\n",
      " '80': 'Santa Clara County Civic Center',\n",
      " '82': 'Broadway St at Battery St',\n",
      " '83': 'Mezes Park',\n",
      " '84': 'Ryland Park',\n",
      " '9': 'Japantown'}\n"
     ]
    }
   ],
   "source": [
    "import pprint \n",
    "pp = pprint.PrettyPrinter()\n",
    "\n",
    "trips = readCSV('trips_20150831.csv')\n",
    "terminals = {}\n",
    "for trip in trips:\n",
    "    terminal =  ...\n",
    "    station =  ...\n",
    "    ...\n",
    "\n",
    "pp.pprint(terminals)\n"
   ]
  }
 ],
 "metadata": {
  "kernelspec": {
   "display_name": "Python 3",
   "language": "python",
   "name": "python3"
  },
  "language_info": {
   "codemirror_mode": {
    "name": "ipython",
    "version": 3
   },
   "file_extension": ".py",
   "mimetype": "text/x-python",
   "name": "python",
   "nbconvert_exporter": "python",
   "pygments_lexer": "ipython3",
   "version": "3.7.3"
  }
 },
 "nbformat": 4,
 "nbformat_minor": 2
}
